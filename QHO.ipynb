{
  "cells": [
    {
      "cell_type": "markdown",
      "metadata": {
        "id": "RUobDpCPcxe5"
      },
      "source": [
        "##VQE for Quantum Harmonic Oscillator\n",
        "Estimator primitive is used as VQE function from qiskit_algorithms not working properly"
      ]
    },
    {
      "cell_type": "code",
      "execution_count": null,
      "metadata": {
        "id": "m1d01JGNcuEL"
      },
      "outputs": [],
      "source": [
        "# Install the required packages\n",
        "!pip install qiskit[visualization]==1.0.2"
      ]
    },
    {
      "cell_type": "code",
      "execution_count": null,
      "metadata": {
        "id": "ZVOcKmdzdDgH"
      },
      "outputs": [],
      "source": [
        "!pip install qiskit_aer\n",
        "!pip install qiskit_ibm_runtime\n",
        "!pip install matplotlib\n",
        "!pip install pylatexenc\n",
        "!pip install prototype-zne\n",
        "!pip install qiskit_ibm_runtime\n",
        "!pip install qiskit_nature\n",
        "!pip install scipy"
      ]
    },
    {
      "cell_type": "code",
      "execution_count": null,
      "metadata": {
        "id": "Szh5019zdGeu"
      },
      "outputs": [],
      "source": [
        "#Import the necessary files\n",
        "from qiskit import QuantumCircuit, QuantumRegister\n",
        "from qiskit_ibm_runtime import QiskitRuntimeService\n",
        "from qiskit.circuit.library import RealAmplitudes\n",
        "from qiskit.quantum_info import SparsePauliOp, Pauli\n",
        "from qiskit_algorithms.optimizers import COBYLA\n",
        "from qiskit_algorithms import VQE\n",
        "from qiskit.primitives import Estimator\n",
        "import numpy as np\n",
        "from scipy.optimize import minimize\n",
        "import matplotlib.pyplot as plt\n",
        "from qiskit.transpiler.preset_passmanagers import generate_preset_pass_manager\n",
        "from qiskit_ibm_runtime import Session, EstimatorV2 as Estimator\n",
        "from qiskit_nature.second_q.mappers import JordanWignerMapper\n",
        "from qiskit_nature.second_q.algorithms import GroundStateEigensolver\n",
        "from qiskit_nature.second_q.operators import FermionicOp\n",
        "from qiskit_aer import AerSimulator\n",
        "# import pi from numpy"
      ]
    },
    {
      "cell_type": "code",
      "execution_count": null,
      "metadata": {
        "id": "NnL29a89dRn-"
      },
      "outputs": [],
      "source": [
        "service = QiskitRuntimeService(channel = 'ibm_quantum',\n",
        "                               token = 'deletethisandpasteyouribmid')\n",
        "\n",
        "QiskitRuntimeService.save_account(channel='ibm_quantum',\n",
        "                                  token = 'deletethisandpasteyouribmid')"
      ]
    },
    {
      "cell_type": "markdown",
      "metadata": {
        "id": "k9XOex2EdkZJ"
      },
      "source": [
        "###Creating the Reference state. This is designed for a single particle but can be scaled to multiparticles. The hamiltonian will change accordingly (H = hw(n+1.5)/(2*pie))"
      ]
    },
    {
      "cell_type": "code",
      "execution_count": null,
      "metadata": {
        "id": "jDiyVow6dbkI"
      },
      "outputs": [],
      "source": [
        "theta = np.pi/3\n",
        "q = QuantumRegister(1, 'qreg')\n",
        "qc = QuantumCircuit(q)\n",
        "qc.h(q[0])\n",
        "qc.rx(theta, q[0])\n",
        "qc.draw('mpl')"
      ]
    },
    {
      "cell_type": "code",
      "execution_count": null,
      "metadata": {
        "id": "X_a4C8RWd07m"
      },
      "outputs": [],
      "source": [
        "# Defining the backend and the ansatz\n",
        "\n",
        "# backend = service.backend('ibm_brisbane')\n",
        "backend = AerSimulator()\n",
        "# Hamiltonian = SparsePauliOp(['I', 'Z'], [0.5, 0.5])\n",
        "fermionic_op = FermionicOp({'+_0 -_0': 1.0})\n",
        "\n",
        "jw_mapper = JordanWignerMapper()\n",
        "# ground_state_solver = GroundStateEigensolver(mapper=hw_mapper)\n",
        "Hamiltonian = jw_mapper.map(fermionic_op)\n",
        "\n",
        "#Defining the Ansatz\n",
        "num_qubits = 1\n",
        "ansatz = RealAmplitudes(num_qubits, reps = 1, entanglement = None)\n",
        "ansatz.draw('mpl')"
      ]
    },
    {
      "cell_type": "code",
      "execution_count": null,
      "metadata": {
        "id": "JvPdDVCweBbQ"
      },
      "outputs": [],
      "source": [
        "# Transpilation\n",
        "\n",
        "optimizationLevel = 1\n",
        "pm = generate_preset_pass_manager(backend= backend, optimization_level= optimizationLevel)\n",
        "isa_circuit = pm.run(ansatz)\n",
        "\n",
        "# isa_circuit.draw('mpl')"
      ]
    },
    {
      "cell_type": "code",
      "execution_count": null,
      "metadata": {
        "id": "0JL8VIRZeEFY"
      },
      "outputs": [],
      "source": [
        "isa_observables = Hamiltonian.apply_layout(isa_circuit.layout)"
      ]
    },
    {
      "cell_type": "markdown",
      "metadata": {
        "id": "k8_nOYSceKmf"
      },
      "source": [
        "From here, the estimator function will start"
      ]
    },
    {
      "cell_type": "code",
      "execution_count": null,
      "metadata": {
        "id": "yclPfXKdeHcP"
      },
      "outputs": [],
      "source": [
        "estimator = Estimator(backend=backend)\n",
        "\n",
        "optimizer = COBYLA(maxiter = 1000)\n",
        "vqe = VQE(estimator = estimator, ansatz = ansatz, optimizer = optimizer)"
      ]
    },
    {
      "cell_type": "markdown",
      "metadata": {
        "id": "DLKhFgeDeWhw"
      },
      "source": [
        "###Cost Function"
      ]
    },
    {
      "cell_type": "code",
      "execution_count": null,
      "metadata": {
        "id": "jylJk4HIeJK_"
      },
      "outputs": [],
      "source": [
        "def cost_func(params, ansatz, hamiltonian, estimator):\n",
        "    \"\"\"Return estimate of energy from estimator\n",
        "\n",
        "    Parameters:\n",
        "        params (ndarray): Array of ansatz parameters\n",
        "        ansatz (QuantumCircuit): Parameterized ansatz circuit\n",
        "        hamiltonian (SparsePauliOp): Operator representation of Hamiltonian\n",
        "        estimator (EstimatorV2): Estimator primitive instance\n",
        "        cost_history_dict: Dictionary for storing intermediate results\n",
        "\n",
        "    Returns:\n",
        "        float: Energy estimate\n",
        "    \"\"\"\n",
        "    pub = (ansatz, [hamiltonian], [params])\n",
        "    h = 6.62607015e-34\n",
        "    c = 3e8\n",
        "    w = 2\n",
        "    result = estimator.run(pubs=[pub]).result()\n",
        "    energy = h*w*c*(result[0].data.evs[0] + 0.5)/(2*pi)\n",
        "\n",
        "    cost_history_dict[\"iters\"] += 1\n",
        "    cost_history_dict[\"prev_vector\"] = params\n",
        "    cost_history_dict[\"cost_history\"].append(energy)\n",
        "    print(f\"Iters. done: {cost_history_dict['iters']} [Current cost: {energy}]\")\n",
        "\n",
        "    return energy"
      ]
    },
    {
      "cell_type": "code",
      "execution_count": null,
      "metadata": {
        "id": "zRTvrIN9eZj4"
      },
      "outputs": [],
      "source": [
        "cost_history_dict = {\n",
        "    \"prev_vector\": None,\n",
        "    \"iters\": 0,\n",
        "    \"cost_history\": [],\n",
        "}"
      ]
    },
    {
      "cell_type": "code",
      "execution_count": null,
      "metadata": {
        "id": "za9CH4-pebkX"
      },
      "outputs": [],
      "source": [
        "num_params = ansatz.num_parameters\n",
        "num_params"
      ]
    },
    {
      "cell_type": "code",
      "execution_count": null,
      "metadata": {
        "id": "dbvYVeBPedZP"
      },
      "outputs": [],
      "source": [
        "x0 = 2 * np.pi * np.random.random(num_params) # Change this later for random parameters"
      ]
    },
    {
      "cell_type": "markdown",
      "metadata": {
        "id": "sOf5tOeRek1Y"
      },
      "source": [
        "Classical Optimization"
      ]
    },
    {
      "cell_type": "code",
      "execution_count": null,
      "metadata": {
        "id": "nI2XMrfueh3P"
      },
      "outputs": [],
      "source": [
        "with Session(backend=backend) as session:\n",
        "    estimator = Estimator(session=session)\n",
        "    estimator.options.default_shots = 1000\n",
        "\n",
        "    res = minimize(\n",
        "        cost_func,\n",
        "        x0,\n",
        "        args=(isa_circuit, isa_observables, estimator),\n",
        "        method=\"COBYLA\",\n",
        "    )"
      ]
    },
    {
      "cell_type": "code",
      "execution_count": null,
      "metadata": {
        "id": "jS4Uk5bOeonI"
      },
      "outputs": [],
      "source": [
        "print(res) # Printing the Result"
      ]
    },
    {
      "cell_type": "markdown",
      "metadata": {
        "id": "LkpZm0NQewyQ"
      },
      "source": [
        "Plotting the Curve"
      ]
    },
    {
      "cell_type": "code",
      "execution_count": null,
      "metadata": {
        "id": "56UoukJ_et0A"
      },
      "outputs": [],
      "source": [
        "fig, ax = plt.subplots()\n",
        "ax.plot(range(cost_history_dict[\"iters\"]), cost_history_dict[\"cost_history\"])\n",
        "ax.set_xlabel(\"Iterations\")\n",
        "ax.set_ylabel(\"Cost\")\n",
        "plt.draw()"
      ]
    }
  ],
  "metadata": {
    "colab": {
      "provenance": []
    },
    "kernelspec": {
      "display_name": "Python 3",
      "name": "python3"
    },
    "language_info": {
      "name": "python"
    }
  },
  "nbformat": 4,
  "nbformat_minor": 0
}
